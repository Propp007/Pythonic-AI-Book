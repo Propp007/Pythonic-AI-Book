{
  "nbformat": 4,
  "nbformat_minor": 0,
  "metadata": {
    "colab": {
      "provenance": []
    },
    "kernelspec": {
      "name": "python3",
      "display_name": "Python 3"
    },
    "language_info": {
      "name": "python"
    }
  },
  "cells": [
    {
      "cell_type": "markdown",
      "source": [],
      "metadata": {
        "id": "LCVDOCXVgqHl"
      }
    },
    {
      "cell_type": "markdown",
      "source": [
        "# Простые примеры кода для тестирования"
      ],
      "metadata": {
        "id": "-4l62w4QgrF1"
      }
    },
    {
      "cell_type": "code",
      "execution_count": null,
      "metadata": {
        "colab": {
          "base_uri": "https://localhost:8080/"
        },
        "id": "ZEnscCjj9Gef",
        "outputId": "33f2ba89-9ae4-4dce-9cd4-a0ff7ec64284"
      },
      "outputs": [
        {
          "output_type": "execute_result",
          "data": {
            "text/plain": [
              "[4, 8, 4, 6, 4, 2]"
            ]
          },
          "metadata": {},
          "execution_count": 2
        }
      ],
      "source": [
        "nums = [2,4,6,4,8,4]\n",
        "nums.reverse()\n",
        "nums\n"
      ]
    },
    {
      "cell_type": "code",
      "source": [
        "sum = 0\n",
        "for x in range (11):\n",
        "  sum += x\n",
        "print (x)\n"
      ],
      "metadata": {
        "colab": {
          "base_uri": "https://localhost:8080/"
        },
        "id": "3W8jRgkxKN-O",
        "outputId": "e4eca34f-c45b-45a5-f90d-2e50b01d33cb"
      },
      "execution_count": null,
      "outputs": [
        {
          "output_type": "stream",
          "name": "stdout",
          "text": [
            "10\n"
          ]
        }
      ]
    },
    {
      "cell_type": "markdown",
      "source": [
        "# Монтирование Google Drive и операции с ним"
      ],
      "metadata": {
        "id": "ubGCPOm0gURw"
      }
    },
    {
      "cell_type": "code",
      "source": [
        "# Монтировать Google Drive\n",
        "from google.colab import drive\n",
        "drive.mount('/content/drive')"
      ],
      "metadata": {
        "colab": {
          "base_uri": "https://localhost:8080/"
        },
        "id": "O-QURxV1WC6K",
        "outputId": "7ff5c7d4-0421-4e23-e902-0f1e5913bbce"
      },
      "execution_count": null,
      "outputs": [
        {
          "output_type": "stream",
          "name": "stdout",
          "text": [
            "Mounted at /content/drive\n"
          ]
        }
      ]
    },
    {
      "cell_type": "code",
      "source": [
        "!ls /content/drive/MyDrive/ # Список файлов и директорий на монтированном Google Drive, Unix-command (!)"
      ],
      "metadata": {
        "colab": {
          "base_uri": "https://localhost:8080/"
        },
        "id": "vkU3rBidZMAr",
        "outputId": "16829e7d-1b7a-443f-8000-e5ebf5bb6113"
      },
      "execution_count": 19,
      "outputs": [
        {
          "output_type": "stream",
          "name": "stdout",
          "text": [
            "'Colab Notebooks'  'Images and Video'   Документы   Таблицы   Формы\n"
          ]
        }
      ]
    },
    {
      "cell_type": "code",
      "source": [
        "!df /content/drive/MyDrive/ # Объём монтированного Google Drive, Unix-command (!)"
      ],
      "metadata": {
        "colab": {
          "base_uri": "https://localhost:8080/"
        },
        "id": "Diq4GUKWZsGN",
        "outputId": "56063c21-7721-44d4-d19f-f73962a38248"
      },
      "execution_count": 20,
      "outputs": [
        {
          "output_type": "stream",
          "name": "stdout",
          "text": [
            "Filesystem     1K-blocks     Used Available Use% Mounted on\n",
            "drive           17825792 12784560   5041232  72% /content/drive\n"
          ]
        }
      ]
    }
  ]
}